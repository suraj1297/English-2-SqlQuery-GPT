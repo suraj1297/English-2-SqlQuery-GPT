{
 "cells": [
  {
   "cell_type": "markdown",
   "id": "371eb94b",
   "metadata": {},
   "source": [
    "### Suraj Desai Training Model"
   ]
  },
  {
   "cell_type": "code",
   "execution_count": 1,
   "id": "84c76742",
   "metadata": {},
   "outputs": [],
   "source": [
    "import os\n",
    "import openai\n",
    "openai.api_key = os.getenv(\"OPENAI_API_KEY\")"
   ]
  },
  {
   "cell_type": "markdown",
   "id": "11420cb1",
   "metadata": {},
   "source": [
    "### Training gpt on schema and self generated dataset "
   ]
  },
  {
   "cell_type": "code",
   "execution_count": 6,
   "id": "0f440d91",
   "metadata": {},
   "outputs": [],
   "source": [
    "file_metadata = openai.File.create(\n",
    "  file=open(\"dataset/train_data.jsonl\", \"rb\"),\n",
    "    purpose='fine-tune'\n",
    ")"
   ]
  },
  {
   "cell_type": "code",
   "execution_count": 14,
   "id": "9c3c5ca1",
   "metadata": {},
   "outputs": [
    {
     "data": {
      "text/plain": [
       "<File file id=file-aFyFIYhHhkXEscLVdV00J0h4 at 0x10671c400> JSON: {\n",
       "  \"object\": \"file\",\n",
       "  \"id\": \"file-aFyFIYhHhkXEscLVdV00J0h4\",\n",
       "  \"purpose\": \"fine-tune\",\n",
       "  \"filename\": \"file\",\n",
       "  \"bytes\": 45993,\n",
       "  \"created_at\": 1698111739,\n",
       "  \"status\": \"uploaded\",\n",
       "  \"status_details\": null\n",
       "}"
      ]
     },
     "execution_count": 14,
     "metadata": {},
     "output_type": "execute_result"
    }
   ],
   "source": [
    "file_metadata"
   ]
  },
  {
   "cell_type": "code",
   "execution_count": 15,
   "id": "c9c1cd13",
   "metadata": {},
   "outputs": [
    {
     "data": {
      "text/plain": [
       "<FineTuningJob fine_tuning.job id=ftjob-0nz60yC1MsOQ31f03z909chQ at 0x1136f67f0> JSON: {\n",
       "  \"object\": \"fine_tuning.job\",\n",
       "  \"id\": \"ftjob-0nz60yC1MsOQ31f03z909chQ\",\n",
       "  \"model\": \"gpt-3.5-turbo-0613\",\n",
       "  \"created_at\": 1698111919,\n",
       "  \"finished_at\": null,\n",
       "  \"fine_tuned_model\": null,\n",
       "  \"organization_id\": \"org-u1ERq7fbreDb1wUZOAOdrMKG\",\n",
       "  \"result_files\": [],\n",
       "  \"status\": \"validating_files\",\n",
       "  \"validation_file\": null,\n",
       "  \"training_file\": \"file-aFyFIYhHhkXEscLVdV00J0h4\",\n",
       "  \"hyperparameters\": {\n",
       "    \"n_epochs\": 3\n",
       "  },\n",
       "  \"trained_tokens\": null,\n",
       "  \"error\": null\n",
       "}"
      ]
     },
     "execution_count": 15,
     "metadata": {},
     "output_type": "execute_result"
    }
   ],
   "source": [
    "openai.FineTuningJob.create(training_file=file_metadata.id, model=\"gpt-3.5-turbo\", hyperparameters={'n_epochs':3}, suffix=\"jaarus\")"
   ]
  },
  {
   "cell_type": "code",
   "execution_count": 22,
   "id": "be4b61f6",
   "metadata": {},
   "outputs": [
    {
     "data": {
      "text/plain": [
       "<FineTuningJob fine_tuning.job id=ftjob-0nz60yC1MsOQ31f03z909chQ at 0x1136cde40> JSON: {\n",
       "  \"object\": \"fine_tuning.job\",\n",
       "  \"id\": \"ftjob-0nz60yC1MsOQ31f03z909chQ\",\n",
       "  \"model\": \"gpt-3.5-turbo-0613\",\n",
       "  \"created_at\": 1698111919,\n",
       "  \"finished_at\": 1698112737,\n",
       "  \"fine_tuned_model\": \"ft:gpt-3.5-turbo-0613:personal:jaarus:8D0z4CHa\",\n",
       "  \"organization_id\": \"org-u1ERq7fbreDb1wUZOAOdrMKG\",\n",
       "  \"result_files\": [\n",
       "    \"file-D5EfQQA3rrrOXAzLTgT3A3Oi\"\n",
       "  ],\n",
       "  \"status\": \"succeeded\",\n",
       "  \"validation_file\": null,\n",
       "  \"training_file\": \"file-aFyFIYhHhkXEscLVdV00J0h4\",\n",
       "  \"hyperparameters\": {\n",
       "    \"n_epochs\": 3\n",
       "  },\n",
       "  \"trained_tokens\": 25338,\n",
       "  \"error\": null\n",
       "}"
      ]
     },
     "execution_count": 22,
     "metadata": {},
     "output_type": "execute_result"
    }
   ],
   "source": [
    "openai.FineTuningJob.retrieve(\"ftjob-0nz60yC1MsOQ31f03z909chQ\")"
   ]
  },
  {
   "cell_type": "markdown",
   "id": "64aa38e9",
   "metadata": {},
   "source": [
    "### Training gpt on schema and self generated  + spider dataset and 3 epochs"
   ]
  },
  {
   "cell_type": "code",
   "execution_count": 23,
   "id": "3a4f7158",
   "metadata": {},
   "outputs": [],
   "source": [
    "file_metadata = openai.File.create(\n",
    "  file=open(\"dataset/train_data_extended.jsonl\", \"rb\"),\n",
    "    purpose='fine-tune'\n",
    ")"
   ]
  },
  {
   "cell_type": "code",
   "execution_count": 24,
   "id": "98a25703",
   "metadata": {},
   "outputs": [
    {
     "data": {
      "text/plain": [
       "<File file id=file-xqOA6KjVDj64r6Kr8icRYWgt at 0x1136d6930> JSON: {\n",
       "  \"object\": \"file\",\n",
       "  \"id\": \"file-xqOA6KjVDj64r6Kr8icRYWgt\",\n",
       "  \"purpose\": \"fine-tune\",\n",
       "  \"filename\": \"file\",\n",
       "  \"bytes\": 3306785,\n",
       "  \"created_at\": 1698128082,\n",
       "  \"status\": \"uploaded\",\n",
       "  \"status_details\": null\n",
       "}"
      ]
     },
     "execution_count": 24,
     "metadata": {},
     "output_type": "execute_result"
    }
   ],
   "source": [
    "file_metadata"
   ]
  },
  {
   "cell_type": "code",
   "execution_count": 25,
   "id": "edfb75f9",
   "metadata": {},
   "outputs": [
    {
     "data": {
      "text/plain": [
       "<FineTuningJob fine_tuning.job id=ftjob-xPfSSZrJ0W7IXL2k9RtVWyRT at 0x1136d6f20> JSON: {\n",
       "  \"object\": \"fine_tuning.job\",\n",
       "  \"id\": \"ftjob-xPfSSZrJ0W7IXL2k9RtVWyRT\",\n",
       "  \"model\": \"gpt-3.5-turbo-0613\",\n",
       "  \"created_at\": 1698128106,\n",
       "  \"finished_at\": null,\n",
       "  \"fine_tuned_model\": null,\n",
       "  \"organization_id\": \"org-u1ERq7fbreDb1wUZOAOdrMKG\",\n",
       "  \"result_files\": [],\n",
       "  \"status\": \"validating_files\",\n",
       "  \"validation_file\": null,\n",
       "  \"training_file\": \"file-xqOA6KjVDj64r6Kr8icRYWgt\",\n",
       "  \"hyperparameters\": {\n",
       "    \"n_epochs\": 3\n",
       "  },\n",
       "  \"trained_tokens\": null,\n",
       "  \"error\": null\n",
       "}"
      ]
     },
     "execution_count": 25,
     "metadata": {},
     "output_type": "execute_result"
    }
   ],
   "source": [
    "openai.FineTuningJob.create(\n",
    "    training_file=file_metadata.id, \n",
    "    model=\"gpt-3.5-turbo\", \n",
    "    hyperparameters={'n_epochs':3}, \n",
    "    suffix=\"jaarus\")"
   ]
  },
  {
   "cell_type": "code",
   "execution_count": 29,
   "id": "5419c22e",
   "metadata": {},
   "outputs": [
    {
     "data": {
      "text/plain": [
       "<FineTuningJob fine_tuning.job id=ftjob-xPfSSZrJ0W7IXL2k9RtVWyRT at 0x1136b65c0> JSON: {\n",
       "  \"object\": \"fine_tuning.job\",\n",
       "  \"id\": \"ftjob-xPfSSZrJ0W7IXL2k9RtVWyRT\",\n",
       "  \"model\": \"gpt-3.5-turbo-0613\",\n",
       "  \"created_at\": 1698128106,\n",
       "  \"finished_at\": 1698131767,\n",
       "  \"fine_tuned_model\": \"ft:gpt-3.5-turbo-0613:personal:jaarus:8D5w06vK\",\n",
       "  \"organization_id\": \"org-u1ERq7fbreDb1wUZOAOdrMKG\",\n",
       "  \"result_files\": [\n",
       "    \"file-P2vLB4BDKO4cyGtJeMav5PEP\"\n",
       "  ],\n",
       "  \"status\": \"succeeded\",\n",
       "  \"validation_file\": null,\n",
       "  \"training_file\": \"file-xqOA6KjVDj64r6Kr8icRYWgt\",\n",
       "  \"hyperparameters\": {\n",
       "    \"n_epochs\": 3\n",
       "  },\n",
       "  \"trained_tokens\": 2025510,\n",
       "  \"error\": null\n",
       "}"
      ]
     },
     "execution_count": 29,
     "metadata": {},
     "output_type": "execute_result"
    }
   ],
   "source": [
    "openai.FineTuningJob.retrieve(\"ftjob-xPfSSZrJ0W7IXL2k9RtVWyRT\")"
   ]
  },
  {
   "cell_type": "markdown",
   "id": "eb74a914",
   "metadata": {},
   "source": [
    "### Training gpt on schema and self generated  + spider dataset and 1 epochs"
   ]
  },
  {
   "cell_type": "code",
   "execution_count": 30,
   "id": "e66b029a",
   "metadata": {},
   "outputs": [
    {
     "data": {
      "text/plain": [
       "<FineTuningJob fine_tuning.job id=ftjob-fZPHHufnMn2l2CU4840qcxW7 at 0x1136ced90> JSON: {\n",
       "  \"object\": \"fine_tuning.job\",\n",
       "  \"id\": \"ftjob-fZPHHufnMn2l2CU4840qcxW7\",\n",
       "  \"model\": \"gpt-3.5-turbo-0613\",\n",
       "  \"created_at\": 1698166446,\n",
       "  \"finished_at\": null,\n",
       "  \"fine_tuned_model\": null,\n",
       "  \"organization_id\": \"org-u1ERq7fbreDb1wUZOAOdrMKG\",\n",
       "  \"result_files\": [],\n",
       "  \"status\": \"validating_files\",\n",
       "  \"validation_file\": null,\n",
       "  \"training_file\": \"file-xqOA6KjVDj64r6Kr8icRYWgt\",\n",
       "  \"hyperparameters\": {\n",
       "    \"n_epochs\": 1\n",
       "  },\n",
       "  \"trained_tokens\": null,\n",
       "  \"error\": null\n",
       "}"
      ]
     },
     "execution_count": 30,
     "metadata": {},
     "output_type": "execute_result"
    }
   ],
   "source": [
    "openai.FineTuningJob.create(\n",
    "    training_file=file_metadata.id, \n",
    "    model=\"gpt-3.5-turbo\", \n",
    "    hyperparameters={'n_epochs':1}, \n",
    "    suffix=\"jaarus-3\")"
   ]
  },
  {
   "cell_type": "code",
   "execution_count": 32,
   "id": "a52cc096",
   "metadata": {},
   "outputs": [
    {
     "data": {
      "text/plain": [
       "<FineTuningJob fine_tuning.job id=ftjob-fZPHHufnMn2l2CU4840qcxW7 at 0x1136b40e0> JSON: {\n",
       "  \"object\": \"fine_tuning.job\",\n",
       "  \"id\": \"ftjob-fZPHHufnMn2l2CU4840qcxW7\",\n",
       "  \"model\": \"gpt-3.5-turbo-0613\",\n",
       "  \"created_at\": 1698166446,\n",
       "  \"finished_at\": null,\n",
       "  \"fine_tuned_model\": null,\n",
       "  \"organization_id\": \"org-u1ERq7fbreDb1wUZOAOdrMKG\",\n",
       "  \"result_files\": [],\n",
       "  \"status\": \"running\",\n",
       "  \"validation_file\": null,\n",
       "  \"training_file\": \"file-xqOA6KjVDj64r6Kr8icRYWgt\",\n",
       "  \"hyperparameters\": {\n",
       "    \"n_epochs\": 1\n",
       "  },\n",
       "  \"trained_tokens\": null,\n",
       "  \"error\": null\n",
       "}"
      ]
     },
     "execution_count": 32,
     "metadata": {},
     "output_type": "execute_result"
    }
   ],
   "source": [
    "openai.FineTuningJob.retrieve(\"ftjob-fZPHHufnMn2l2CU4840qcxW7\")"
   ]
  },
  {
   "cell_type": "markdown",
   "id": "c655a8ab",
   "metadata": {},
   "source": [
    "### Training gpt using schema only"
   ]
  },
  {
   "cell_type": "code",
   "execution_count": 7,
   "id": "7a8294d9",
   "metadata": {},
   "outputs": [],
   "source": [
    "file_metadata = openai.File.create(\n",
    "  file=open(\"dataset/train_data_schema_only.jsonl\", \"rb\"),\n",
    "    purpose='fine-tune'\n",
    ")"
   ]
  },
  {
   "cell_type": "code",
   "execution_count": 8,
   "id": "f2f8e601",
   "metadata": {},
   "outputs": [
    {
     "data": {
      "text/plain": [
       "<File file id=file-xkoPaGAyMkhVjYpzWsQokE1W at 0x10a397330> JSON: {\n",
       "  \"object\": \"file\",\n",
       "  \"id\": \"file-xkoPaGAyMkhVjYpzWsQokE1W\",\n",
       "  \"purpose\": \"fine-tune\",\n",
       "  \"filename\": \"file\",\n",
       "  \"bytes\": 4471,\n",
       "  \"created_at\": 1698948102,\n",
       "  \"status\": \"processed\",\n",
       "  \"status_details\": null\n",
       "}"
      ]
     },
     "execution_count": 8,
     "metadata": {},
     "output_type": "execute_result"
    }
   ],
   "source": [
    "file_metadata"
   ]
  },
  {
   "cell_type": "code",
   "execution_count": 9,
   "id": "30a05088",
   "metadata": {},
   "outputs": [
    {
     "data": {
      "text/plain": [
       "<FineTuningJob fine_tuning.job id=ftjob-Z4HNWrRhS1x52tTiGKgxXjcD at 0x10a397ce0> JSON: {\n",
       "  \"object\": \"fine_tuning.job\",\n",
       "  \"id\": \"ftjob-Z4HNWrRhS1x52tTiGKgxXjcD\",\n",
       "  \"model\": \"gpt-3.5-turbo-0613\",\n",
       "  \"created_at\": 1698948106,\n",
       "  \"finished_at\": null,\n",
       "  \"fine_tuned_model\": null,\n",
       "  \"organization_id\": \"org-u1ERq7fbreDb1wUZOAOdrMKG\",\n",
       "  \"result_files\": [],\n",
       "  \"status\": \"validating_files\",\n",
       "  \"validation_file\": null,\n",
       "  \"training_file\": \"file-xkoPaGAyMkhVjYpzWsQokE1W\",\n",
       "  \"hyperparameters\": {\n",
       "    \"n_epochs\": 3\n",
       "  },\n",
       "  \"trained_tokens\": null,\n",
       "  \"error\": null\n",
       "}"
      ]
     },
     "execution_count": 9,
     "metadata": {},
     "output_type": "execute_result"
    }
   ],
   "source": [
    "openai.FineTuningJob.create(training_file=file_metadata.id, model=\"gpt-3.5-turbo\", hyperparameters={'n_epochs':3}, suffix=\"jaarus-schema\")"
   ]
  },
  {
   "cell_type": "code",
   "execution_count": 11,
   "id": "2b75c09f",
   "metadata": {},
   "outputs": [
    {
     "data": {
      "text/plain": [
       "<FineTuningJob fine_tuning.job id=ftjob-Z4HNWrRhS1x52tTiGKgxXjcD at 0x10a3c9300> JSON: {\n",
       "  \"object\": \"fine_tuning.job\",\n",
       "  \"id\": \"ftjob-Z4HNWrRhS1x52tTiGKgxXjcD\",\n",
       "  \"model\": \"gpt-3.5-turbo-0613\",\n",
       "  \"created_at\": 1698948106,\n",
       "  \"finished_at\": null,\n",
       "  \"fine_tuned_model\": null,\n",
       "  \"organization_id\": \"org-u1ERq7fbreDb1wUZOAOdrMKG\",\n",
       "  \"result_files\": [],\n",
       "  \"status\": \"running\",\n",
       "  \"validation_file\": null,\n",
       "  \"training_file\": \"file-xkoPaGAyMkhVjYpzWsQokE1W\",\n",
       "  \"hyperparameters\": {\n",
       "    \"n_epochs\": 3\n",
       "  },\n",
       "  \"trained_tokens\": null,\n",
       "  \"error\": null\n",
       "}"
      ]
     },
     "execution_count": 11,
     "metadata": {},
     "output_type": "execute_result"
    }
   ],
   "source": [
    "openai.FineTuningJob.retrieve(\"ftjob-Z4HNWrRhS1x52tTiGKgxXjcD\")"
   ]
  },
  {
   "cell_type": "code",
   "execution_count": null,
   "id": "96c5819d",
   "metadata": {},
   "outputs": [],
   "source": []
  }
 ],
 "metadata": {
  "kernelspec": {
   "display_name": "Python 3 (ipykernel)",
   "language": "python",
   "name": "python3"
  },
  "language_info": {
   "codemirror_mode": {
    "name": "ipython",
    "version": 3
   },
   "file_extension": ".py",
   "mimetype": "text/x-python",
   "name": "python",
   "nbconvert_exporter": "python",
   "pygments_lexer": "ipython3",
   "version": "3.10.9"
  }
 },
 "nbformat": 4,
 "nbformat_minor": 5
}

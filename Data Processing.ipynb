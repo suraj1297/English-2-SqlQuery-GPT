{
 "cells": [
  {
   "cell_type": "markdown",
   "id": "efa24107",
   "metadata": {},
   "source": [
    "### Suraj Desai:  Dataset Preprocessing"
   ]
  },
  {
   "cell_type": "code",
   "execution_count": 6,
   "id": "2059a3d0",
   "metadata": {},
   "outputs": [],
   "source": [
    "import pandas as pd\n",
    "import os\n",
    "import openai\n",
    "\n",
    "openai.api_key = os.getenv(\"OPENAI_API_KEY\")"
   ]
  },
  {
   "cell_type": "code",
   "execution_count": 7,
   "id": "ba36dda3",
   "metadata": {},
   "outputs": [],
   "source": [
    "data = pd.read_excel(\"dataset/TrainData.xlsx\")"
   ]
  },
  {
   "cell_type": "code",
   "execution_count": 8,
   "id": "5f3fc74e",
   "metadata": {},
   "outputs": [
    {
     "data": {
      "text/html": [
       "<div>\n",
       "<style scoped>\n",
       "    .dataframe tbody tr th:only-of-type {\n",
       "        vertical-align: middle;\n",
       "    }\n",
       "\n",
       "    .dataframe tbody tr th {\n",
       "        vertical-align: top;\n",
       "    }\n",
       "\n",
       "    .dataframe thead th {\n",
       "        text-align: right;\n",
       "    }\n",
       "</style>\n",
       "<table border=\"1\" class=\"dataframe\">\n",
       "  <thead>\n",
       "    <tr style=\"text-align: right;\">\n",
       "      <th></th>\n",
       "      <th>sentence</th>\n",
       "      <th>query</th>\n",
       "    </tr>\n",
       "  </thead>\n",
       "  <tbody>\n",
       "    <tr>\n",
       "      <th>0</th>\n",
       "      <td>Find the total revenue of products sold in D...</td>\n",
       "      <td>SELECT City, SUM(ValueofSalesUnit * ofSalesUn...</td>\n",
       "    </tr>\n",
       "    <tr>\n",
       "      <th>1</th>\n",
       "      <td>List all products sold with their quantities...</td>\n",
       "      <td>SELECT ProductName, SUM(ofSalesUnitSold) AS T...</td>\n",
       "    </tr>\n",
       "    <tr>\n",
       "      <th>2</th>\n",
       "      <td>Get the names of customers who made pre-orde...</td>\n",
       "      <td>SELECT FirstName, LastName FROM Customers INN...</td>\n",
       "    </tr>\n",
       "    <tr>\n",
       "      <th>3</th>\n",
       "      <td>Find the product that generated the highest ...</td>\n",
       "      <td>SELECT ProductName, SUM(ValueofSalesUnit * of...</td>\n",
       "    </tr>\n",
       "    <tr>\n",
       "      <th>4</th>\n",
       "      <td>List the top 5 products with the highest sal...</td>\n",
       "      <td>SELECT ProductName, SUM(ofSalesUnitSold) AS T...</td>\n",
       "    </tr>\n",
       "    <tr>\n",
       "      <th>...</th>\n",
       "      <td>...</td>\n",
       "      <td>...</td>\n",
       "    </tr>\n",
       "    <tr>\n",
       "      <th>95</th>\n",
       "      <td>Find the total quantity of each product sold...</td>\n",
       "      <td>SELECT ProductName, SalesUnit, SUM(ofSalesUn...</td>\n",
       "    </tr>\n",
       "    <tr>\n",
       "      <th>96</th>\n",
       "      <td>Get the average price of products sold in ea...</td>\n",
       "      <td>SELECT City, AVG(Menu_Items.Price) AS Averag...</td>\n",
       "    </tr>\n",
       "    <tr>\n",
       "      <th>97</th>\n",
       "      <td>List all products that were sold at least on...</td>\n",
       "      <td>SELECT DISTINCT ProductName FROM Orders_Dece...</td>\n",
       "    </tr>\n",
       "    <tr>\n",
       "      <th>98</th>\n",
       "      <td>Find the least popular product based on the ...</td>\n",
       "      <td>SELECT ProductName, SUM(ofSalesUnitSold) AS ...</td>\n",
       "    </tr>\n",
       "    <tr>\n",
       "      <th>99</th>\n",
       "      <td>Get the total revenue from products sold to ...</td>\n",
       "      <td>SELECT SUM(ValueofSalesUnit * ofSalesUnitSol...</td>\n",
       "    </tr>\n",
       "  </tbody>\n",
       "</table>\n",
       "<p>100 rows × 2 columns</p>\n",
       "</div>"
      ],
      "text/plain": [
       "                                             sentence  \\\n",
       "0     Find the total revenue of products sold in D...   \n",
       "1     List all products sold with their quantities...   \n",
       "2     Get the names of customers who made pre-orde...   \n",
       "3     Find the product that generated the highest ...   \n",
       "4     List the top 5 products with the highest sal...   \n",
       "..                                                ...   \n",
       "95    Find the total quantity of each product sold...   \n",
       "96    Get the average price of products sold in ea...   \n",
       "97    List all products that were sold at least on...   \n",
       "98    Find the least popular product based on the ...   \n",
       "99    Get the total revenue from products sold to ...   \n",
       "\n",
       "                                                query  \n",
       "0    SELECT City, SUM(ValueofSalesUnit * ofSalesUn...  \n",
       "1    SELECT ProductName, SUM(ofSalesUnitSold) AS T...  \n",
       "2    SELECT FirstName, LastName FROM Customers INN...  \n",
       "3    SELECT ProductName, SUM(ValueofSalesUnit * of...  \n",
       "4    SELECT ProductName, SUM(ofSalesUnitSold) AS T...  \n",
       "..                                                ...  \n",
       "95    SELECT ProductName, SalesUnit, SUM(ofSalesUn...  \n",
       "96    SELECT City, AVG(Menu_Items.Price) AS Averag...  \n",
       "97    SELECT DISTINCT ProductName FROM Orders_Dece...  \n",
       "98    SELECT ProductName, SUM(ofSalesUnitSold) AS ...  \n",
       "99    SELECT SUM(ValueofSalesUnit * ofSalesUnitSol...  \n",
       "\n",
       "[100 rows x 2 columns]"
      ]
     },
     "execution_count": 8,
     "metadata": {},
     "output_type": "execute_result"
    }
   ],
   "source": [
    "data"
   ]
  },
  {
   "cell_type": "code",
   "execution_count": 9,
   "id": "5ce3ea77",
   "metadata": {},
   "outputs": [],
   "source": [
    "prepared_data = []"
   ]
  },
  {
   "cell_type": "markdown",
   "id": "53b54f46",
   "metadata": {},
   "source": [
    "#### Created function to format train data as per the format mentioned in docs"
   ]
  },
  {
   "cell_type": "code",
   "execution_count": 10,
   "id": "3d9fbe55",
   "metadata": {},
   "outputs": [],
   "source": [
    "def prepare_data(row):\n",
    "    sent = row[0]\n",
    "    query = row[1]\n",
    "    \n",
    "    datapoint = {\"messages\": \n",
    "                 [\n",
    "                    {\"role\": \"system\", \"content\": \"Jaarus is SQL Parser who learns scghema and generates mysql query\"},\n",
    "                    {\"role\": \"user\", \"content\": sent},\n",
    "                    {\"role\": \"assistant\", \"content\": query}\n",
    "                 ]\n",
    "                }\n",
    "    \n",
    "    prepared_data.append(datapoint)\n",
    "    "
   ]
  },
  {
   "cell_type": "code",
   "execution_count": 11,
   "id": "40b90c75",
   "metadata": {},
   "outputs": [
    {
     "data": {
      "text/plain": [
       "0     None\n",
       "1     None\n",
       "2     None\n",
       "3     None\n",
       "4     None\n",
       "      ... \n",
       "95    None\n",
       "96    None\n",
       "97    None\n",
       "98    None\n",
       "99    None\n",
       "Length: 100, dtype: object"
      ]
     },
     "execution_count": 11,
     "metadata": {},
     "output_type": "execute_result"
    }
   ],
   "source": [
    "data[[\"sentence\", \"query\"]].apply(prepare_data, axis=1 )"
   ]
  },
  {
   "cell_type": "code",
   "execution_count": 12,
   "id": "2e31c3f6",
   "metadata": {},
   "outputs": [],
   "source": [
    "import json\n",
    "\n",
    "f = open('dataset/schema.json')\n",
    "\n",
    "schema = json.load(f)\n",
    "\n",
    "\n",
    "f.close()\n"
   ]
  },
  {
   "cell_type": "code",
   "execution_count": 13,
   "id": "94cd0508",
   "metadata": {},
   "outputs": [
    {
     "data": {
      "text/plain": [
       "[{'messages': [{'role': 'system',\n",
       "    'content': 'Jaarus is SQL Parser who learns scghema and generates mysql query'},\n",
       "   {'role': 'user',\n",
       "    'content': \"Here is the schema: CREATE TABLE 'Sales_Unit' ('ID' int NOT NULL AUTO_INCREMENT, 'ProductName' text,'SalesUnitVal' int DEFAULT NULL, PRIMARY KEY ('ID'), UNIQUE KEY 'ID_UNIQUE' ('ID') ) ENGINE=InnoDB AUTO_INCREMENT=4 DEFAULT CHARSET=utf8mb4 COLLATE=utf8mb4_0900_ai_ci;\"},\n",
       "   {'role': 'assistant', 'content': 'Thanks for the schema'}]},\n",
       " {'messages': [{'role': 'system',\n",
       "    'content': 'Jaarus is SQL Parser who learns scghema and generates mysql query'},\n",
       "   {'role': 'user',\n",
       "    'content': 'Here is the schema: CREATE TABLE `Products_Table` (`ID` int NOT NULL, `CategoryID` int DEFAULT NULL, `ProductName` text, `Description` text, PRIMARY KEY (`ID`), UNIQUE KEY `ID_UNIQUE` (`ID`), KEY `CategoryID_idx` (`CategoryID`), CONSTRAINT `CategoryID` FOREIGN KEY (`CategoryID`) REFERENCES `Categories` (`ID`)) ENGINE=InnoDB DEFAULT CHARSET=utf8mb4 COLLATE=utf8mb4_0900_ai_ci;'},\n",
       "   {'role': 'assistant', 'content': 'Thanks for the schema'}]},\n",
       " {'messages': [{'role': 'system',\n",
       "    'content': 'Jaarus is SQL Parser who learns scghema and generates mysql query'},\n",
       "   {'role': 'user',\n",
       "    'content': 'Here is the schema: CREATE TABLE Orders_Table ( ID int NOT NULL AUTO_INCREMENT, CustomerID int DEFAULT NULL, Paid text, PreOrder text, Notes text, PickupDate text, PRIMARY KEY (ID), UNIQUE KEY ID_UNIQUE (ID), KEY CustomerID_idx (CustomerID), CONSTRAINT CustomerID FOREIGN KEY (CustomerID) REFERENCES Customers (ID) )'},\n",
       "   {'role': 'assistant', 'content': 'Thanks for the schema'}]},\n",
       " {'messages': [{'role': 'system',\n",
       "    'content': 'Jaarus is SQL Parser who learns scghema and generates mysql query'},\n",
       "   {'role': 'user',\n",
       "    'content': 'Here is the schema: CREATE TABLE Orders_December ( ProductTypes text, ProductName text, SalesUnit text, ofSalesUnitSold double DEFAULT NULL, ValueofSalesUnit int DEFAULT NULL, ActualSold double DEFAULT NULL )'},\n",
       "   {'role': 'assistant', 'content': 'Thanks for the schema'}]},\n",
       " {'messages': [{'role': 'system',\n",
       "    'content': 'Jaarus is SQL Parser who learns scghema and generates mysql query'},\n",
       "   {'role': 'user',\n",
       "    'content': 'Here is the schema: CREATE TABLE Order_Items ( ID int NOT NULL AUTO_INCREMENT, OrderID int DEFAULT NULL, MenuItemID int DEFAULT NULL, Quantity text, PRIMARY KEY (ID), UNIQUE KEY ID_UNIQUE (ID), KEY OrderID_idx (OrderID), KEY MenuItemID_idx (MenuItemID), CONSTRAINT MenuItemID FOREIGN KEY (MenuItemID) REFERENCES Menu_Items (ID), CONSTRAINT OrderID FOREIGN KEY (OrderID) REFERENCES Orders_Table (ID) )'},\n",
       "   {'role': 'assistant', 'content': 'Thanks for the schema'}]},\n",
       " {'messages': [{'role': 'system',\n",
       "    'content': 'Jaarus is SQL Parser who learns scghema and generates mysql query'},\n",
       "   {'role': 'user',\n",
       "    'content': 'Here is the schema: CREATE TABLE Menu_Items ( ID int NOT NULL AUTO_INCREMENT, ProductID int DEFAULT NULL, SalesUnitID int DEFAULT NULL, Price double DEFAULT NULL, PRIMARY KEY (ID), UNIQUE KEY ID_UNIQUE (ID), KEY ProductID_idx (ProductID), KEY SalesUnitID_idx (SalesUnitID), CONSTRAINT ProductID FOREIGN KEY (ProductID) REFERENCES Products_Table (ID), CONSTRAINT SalesUnitID FOREIGN KEY (SalesUnitID) REFERENCES Sales_Unit (ID) )'},\n",
       "   {'role': 'assistant', 'content': 'Thanks for the schema'}]},\n",
       " {'messages': [{'role': 'system',\n",
       "    'content': 'Jaarus is SQL Parser who learns scghema and generates mysql query'},\n",
       "   {'role': 'user',\n",
       "    'content': 'Here is the schema: CREATE TABLE Customers ( ID int NOT NULL AUTO_INCREMENT, FirstName text, LastName text, StreetAddress text, State text, ZipCode text, Email text, PhoneNumber text, City text, AddtoMailingList text, OtherNotes text, PRIMARY KEY (ID), UNIQUE KEY ID_UNIQUE (ID) )'},\n",
       "   {'role': 'assistant', 'content': 'Thanks for the schema'}]},\n",
       " {'messages': [{'role': 'system',\n",
       "    'content': 'Jaarus is SQL Parser who learns scghema and generates mysql query'},\n",
       "   {'role': 'user',\n",
       "    'content': 'Here is the schema: CREATE TABLE Categories ( ID int NOT NULL, ProductTypes text, PRIMARY KEY (ID), UNIQUE KEY ID_UNIQUE (ID) )'},\n",
       "   {'role': 'assistant', 'content': 'Thanks for the schema'}]}]"
      ]
     },
     "execution_count": 13,
     "metadata": {},
     "output_type": "execute_result"
    }
   ],
   "source": [
    "schema"
   ]
  },
  {
   "cell_type": "code",
   "execution_count": 14,
   "id": "a2d1e58a",
   "metadata": {},
   "outputs": [
    {
     "data": {
      "text/plain": [
       "8"
      ]
     },
     "execution_count": 14,
     "metadata": {},
     "output_type": "execute_result"
    }
   ],
   "source": [
    "len(schema)"
   ]
  },
  {
   "cell_type": "code",
   "execution_count": 106,
   "id": "80c0c6ef",
   "metadata": {},
   "outputs": [],
   "source": [
    "file_path = \"dataset/train_spider_and_others.json\"\n",
    "\n",
    "spider_data = []\n",
    "\n",
    "with open(file_path) as f:\n",
    "    for row in json.load(f):\n",
    "        spider_data.append([row[\"question\"], row[\"query\"]])"
   ]
  },
  {
   "cell_type": "code",
   "execution_count": 110,
   "id": "7e40e04b",
   "metadata": {},
   "outputs": [],
   "source": [
    "spider_df = pd.DataFrame(data = spider_data, columns=[\"sentence\", \"query\"])"
   ]
  },
  {
   "cell_type": "code",
   "execution_count": 111,
   "id": "08e56d9b",
   "metadata": {},
   "outputs": [
    {
     "data": {
      "text/html": [
       "<div>\n",
       "<style scoped>\n",
       "    .dataframe tbody tr th:only-of-type {\n",
       "        vertical-align: middle;\n",
       "    }\n",
       "\n",
       "    .dataframe tbody tr th {\n",
       "        vertical-align: top;\n",
       "    }\n",
       "\n",
       "    .dataframe thead th {\n",
       "        text-align: right;\n",
       "    }\n",
       "</style>\n",
       "<table border=\"1\" class=\"dataframe\">\n",
       "  <thead>\n",
       "    <tr style=\"text-align: right;\">\n",
       "      <th></th>\n",
       "      <th>sentence</th>\n",
       "      <th>query</th>\n",
       "    </tr>\n",
       "  </thead>\n",
       "  <tbody>\n",
       "    <tr>\n",
       "      <th>0</th>\n",
       "      <td>How many heads of the departments are older th...</td>\n",
       "      <td>SELECT count(*) FROM head WHERE age  &gt;  56</td>\n",
       "    </tr>\n",
       "    <tr>\n",
       "      <th>1</th>\n",
       "      <td>List the name, born state and age of the heads...</td>\n",
       "      <td>SELECT name ,  born_state ,  age FROM head ORD...</td>\n",
       "    </tr>\n",
       "    <tr>\n",
       "      <th>2</th>\n",
       "      <td>List the creation year, name and budget of eac...</td>\n",
       "      <td>SELECT creation ,  name ,  budget_in_billions ...</td>\n",
       "    </tr>\n",
       "    <tr>\n",
       "      <th>3</th>\n",
       "      <td>What are the maximum and minimum budget of the...</td>\n",
       "      <td>SELECT max(budget_in_billions) ,  min(budget_i...</td>\n",
       "    </tr>\n",
       "    <tr>\n",
       "      <th>4</th>\n",
       "      <td>What is the average number of employees of the...</td>\n",
       "      <td>SELECT avg(num_employees) FROM department WHER...</td>\n",
       "    </tr>\n",
       "  </tbody>\n",
       "</table>\n",
       "</div>"
      ],
      "text/plain": [
       "                                            sentence  \\\n",
       "0  How many heads of the departments are older th...   \n",
       "1  List the name, born state and age of the heads...   \n",
       "2  List the creation year, name and budget of eac...   \n",
       "3  What are the maximum and minimum budget of the...   \n",
       "4  What is the average number of employees of the...   \n",
       "\n",
       "                                               query  \n",
       "0         SELECT count(*) FROM head WHERE age  >  56  \n",
       "1  SELECT name ,  born_state ,  age FROM head ORD...  \n",
       "2  SELECT creation ,  name ,  budget_in_billions ...  \n",
       "3  SELECT max(budget_in_billions) ,  min(budget_i...  \n",
       "4  SELECT avg(num_employees) FROM department WHER...  "
      ]
     },
     "execution_count": 111,
     "metadata": {},
     "output_type": "execute_result"
    }
   ],
   "source": [
    "spider_df.head()"
   ]
  },
  {
   "cell_type": "code",
   "execution_count": 115,
   "id": "aae1f83a",
   "metadata": {},
   "outputs": [
    {
     "data": {
      "text/plain": [
       "100"
      ]
     },
     "execution_count": 115,
     "metadata": {},
     "output_type": "execute_result"
    }
   ],
   "source": [
    "len(prepared_data)"
   ]
  },
  {
   "cell_type": "code",
   "execution_count": 116,
   "id": "eb459f84",
   "metadata": {},
   "outputs": [
    {
     "data": {
      "text/plain": [
       "0       None\n",
       "1       None\n",
       "2       None\n",
       "3       None\n",
       "4       None\n",
       "        ... \n",
       "8654    None\n",
       "8655    None\n",
       "8656    None\n",
       "8657    None\n",
       "8658    None\n",
       "Length: 8659, dtype: object"
      ]
     },
     "execution_count": 116,
     "metadata": {},
     "output_type": "execute_result"
    }
   ],
   "source": [
    "spider_df[[\"sentence\", \"query\"]].apply(prepare_data, axis=1)"
   ]
  },
  {
   "cell_type": "code",
   "execution_count": 118,
   "id": "b708a194",
   "metadata": {},
   "outputs": [
    {
     "data": {
      "text/plain": [
       "8759"
      ]
     },
     "execution_count": 118,
     "metadata": {},
     "output_type": "execute_result"
    }
   ],
   "source": [
    "len(prepared_data)"
   ]
  },
  {
   "cell_type": "code",
   "execution_count": 119,
   "id": "c0065278",
   "metadata": {},
   "outputs": [],
   "source": [
    "train_data = schema + prepared_data"
   ]
  },
  {
   "cell_type": "code",
   "execution_count": 120,
   "id": "0b7eded9",
   "metadata": {},
   "outputs": [],
   "source": [
    "file_path = \"dataset/train_data_extended.jsonl\"\n",
    "\n",
    "with open(file_path, 'w') as file:\n",
    "    for row in train_data:\n",
    "        file.write(json.dumps(row) + '\\n')"
   ]
  },
  {
   "cell_type": "code",
   "execution_count": 16,
   "id": "82fa28eb",
   "metadata": {},
   "outputs": [],
   "source": [
    "file_path = \"dataset/train_data_schema_only.jsonl\"\n",
    "\n",
    "with open(file_path, 'w') as file:\n",
    "    for row in schema:\n",
    "        file.write(json.dumps(row) + '\\n')"
   ]
  },
  {
   "cell_type": "code",
   "execution_count": null,
   "id": "e4dff39c",
   "metadata": {},
   "outputs": [],
   "source": []
  }
 ],
 "metadata": {
  "kernelspec": {
   "display_name": "Python 3 (ipykernel)",
   "language": "python",
   "name": "python3"
  },
  "language_info": {
   "codemirror_mode": {
    "name": "ipython",
    "version": 3
   },
   "file_extension": ".py",
   "mimetype": "text/x-python",
   "name": "python",
   "nbconvert_exporter": "python",
   "pygments_lexer": "ipython3",
   "version": "3.10.9"
  }
 },
 "nbformat": 4,
 "nbformat_minor": 5
}

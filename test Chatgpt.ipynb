{
 "cells": [
  {
   "cell_type": "markdown",
   "id": "16655a88",
   "metadata": {},
   "source": [
    "### Suraj Desai Testing Model"
   ]
  },
  {
   "cell_type": "code",
   "execution_count": 2,
   "id": "53db021f",
   "metadata": {},
   "outputs": [],
   "source": [
    "import os\n",
    "import openai\n",
    "import pandas as pd\n",
    "openai.api_key = os.getenv(\"OPENAI_API_KEY\")\n",
    "\n",
    "my_model = \"ft:gpt-3.5-turbo-0613:personal:jaarus:8D0z4CHa\""
   ]
  },
  {
   "cell_type": "code",
   "execution_count": 101,
   "id": "4873ab56",
   "metadata": {},
   "outputs": [],
   "source": [
    "y_pred = []"
   ]
  },
  {
   "cell_type": "code",
   "execution_count": 102,
   "id": "5f60d037",
   "metadata": {},
   "outputs": [],
   "source": [
    "data = pd.read_excel(\"dataset/testdata.xlsx\")"
   ]
  },
  {
   "cell_type": "code",
   "execution_count": 103,
   "id": "ebafeb35",
   "metadata": {},
   "outputs": [
    {
     "data": {
      "text/html": [
       "<div>\n",
       "<style scoped>\n",
       "    .dataframe tbody tr th:only-of-type {\n",
       "        vertical-align: middle;\n",
       "    }\n",
       "\n",
       "    .dataframe tbody tr th {\n",
       "        vertical-align: top;\n",
       "    }\n",
       "\n",
       "    .dataframe thead th {\n",
       "        text-align: right;\n",
       "    }\n",
       "</style>\n",
       "<table border=\"1\" class=\"dataframe\">\n",
       "  <thead>\n",
       "    <tr style=\"text-align: right;\">\n",
       "      <th></th>\n",
       "      <th>sentence</th>\n",
       "      <th>query</th>\n",
       "    </tr>\n",
       "  </thead>\n",
       "  <tbody>\n",
       "    <tr>\n",
       "      <th>0</th>\n",
       "      <td>List all the products sold in December.     ...</td>\n",
       "      <td>SELECT DISTINCT ProductName FROM Orders_Dece...</td>\n",
       "    </tr>\n",
       "    <tr>\n",
       "      <th>1</th>\n",
       "      <td>Get the total revenue generated in December....</td>\n",
       "      <td>SELECT SUM(ValueofSalesUnit * ofSalesUnitSol...</td>\n",
       "    </tr>\n",
       "    <tr>\n",
       "      <th>2</th>\n",
       "      <td>Find the total number of orders made by each...</td>\n",
       "      <td>SELECT CustomerID, COUNT(*) AS TotalOrders F...</td>\n",
       "    </tr>\n",
       "    <tr>\n",
       "      <th>3</th>\n",
       "      <td>Get the names of customers who made pre-orde...</td>\n",
       "      <td>SELECT FirstName, LastName FROM Customers IN...</td>\n",
       "    </tr>\n",
       "    <tr>\n",
       "      <th>4</th>\n",
       "      <td>List all the menu items with their prices an...</td>\n",
       "      <td>SELECT Menu_Items.ID, Products_Table.Product...</td>\n",
       "    </tr>\n",
       "  </tbody>\n",
       "</table>\n",
       "</div>"
      ],
      "text/plain": [
       "                                            sentence  \\\n",
       "0    List all the products sold in December.     ...   \n",
       "1    Get the total revenue generated in December....   \n",
       "2    Find the total number of orders made by each...   \n",
       "3    Get the names of customers who made pre-orde...   \n",
       "4    List all the menu items with their prices an...   \n",
       "\n",
       "                                               query  \n",
       "0    SELECT DISTINCT ProductName FROM Orders_Dece...  \n",
       "1    SELECT SUM(ValueofSalesUnit * ofSalesUnitSol...  \n",
       "2    SELECT CustomerID, COUNT(*) AS TotalOrders F...  \n",
       "3    SELECT FirstName, LastName FROM Customers IN...  \n",
       "4    SELECT Menu_Items.ID, Products_Table.Product...  "
      ]
     },
     "execution_count": 103,
     "metadata": {},
     "output_type": "execute_result"
    }
   ],
   "source": [
    "data.head()"
   ]
  },
  {
   "cell_type": "code",
   "execution_count": 146,
   "id": "14404e05",
   "metadata": {},
   "outputs": [],
   "source": [
    "def predict(sent):\n",
    "    completion = openai.ChatCompletion.create(\n",
    "      model= my_model,\n",
    "      messages=[\n",
    "        {\"role\": \"system\", \"content\": \"Jaarus is SQL Parser who learns scghema and generates mysql query\"},\n",
    "        {\"role\": \"user\", \"content\": sent[0]}\n",
    "      ],\n",
    "      temperature=0.05,\n",
    "      max_tokens=2048,\n",
    "      top_p=0.1,\n",
    "      frequency_penalty=0,\n",
    "      presence_penalty=0\n",
    "    )\n",
    "    \n",
    "    return completion.choices[0].message[\"content\"]\n",
    "    "
   ]
  },
  {
   "cell_type": "code",
   "execution_count": 163,
   "id": "736df01b",
   "metadata": {},
   "outputs": [],
   "source": [
    "def get_pred_score(pred):\n",
    "    \n",
    "    binary_pred = []\n",
    "\n",
    "    for test, test_pred in zip(data[\"query\"], pred):\n",
    "        \n",
    "        \n",
    "        if  test.strip().lower().replace(\" \", \"\") == test_pred.strip().lower().replace(\" \", \"\"):\n",
    "            binary_pred.append(1)\n",
    "        else:\n",
    "            binary_pred.append(0)\n",
    "            \n",
    "    return binary_pred"
   ]
  },
  {
   "cell_type": "markdown",
   "id": "1bddcf62",
   "metadata": {},
   "source": [
    "#### Testing model trained on self generated dataset "
   ]
  },
  {
   "cell_type": "code",
   "execution_count": 148,
   "id": "943c4369",
   "metadata": {},
   "outputs": [],
   "source": [
    "y_pred = data[[\"sentence\"]].apply(predict, axis=1)"
   ]
  },
  {
   "cell_type": "code",
   "execution_count": 164,
   "id": "176696bb",
   "metadata": {},
   "outputs": [],
   "source": [
    "pred = get_pred_score(y_pred)"
   ]
  },
  {
   "cell_type": "code",
   "execution_count": 165,
   "id": "1bb78393",
   "metadata": {},
   "outputs": [
    {
     "data": {
      "text/plain": [
       "40"
      ]
     },
     "execution_count": 165,
     "metadata": {},
     "output_type": "execute_result"
    }
   ],
   "source": [
    "len(pred)"
   ]
  },
  {
   "cell_type": "code",
   "execution_count": 166,
   "id": "502a49db",
   "metadata": {},
   "outputs": [],
   "source": [
    "accuracy = pred.count(1) / len(pred)"
   ]
  },
  {
   "cell_type": "code",
   "execution_count": 167,
   "id": "11c0fcd9",
   "metadata": {},
   "outputs": [
    {
     "data": {
      "text/plain": [
       "0.525"
      ]
     },
     "execution_count": 167,
     "metadata": {},
     "output_type": "execute_result"
    }
   ],
   "source": [
    "accuracy"
   ]
  },
  {
   "cell_type": "markdown",
   "id": "e70defc7",
   "metadata": {},
   "source": [
    "Accuracy is 52%"
   ]
  },
  {
   "cell_type": "markdown",
   "id": "eb4cedf0",
   "metadata": {},
   "source": [
    "#### Testing model trained on self generated + Spider Dataset on 3 epochs"
   ]
  },
  {
   "cell_type": "code",
   "execution_count": 170,
   "id": "13112409",
   "metadata": {},
   "outputs": [],
   "source": [
    "my_model = openai.FineTuningJob.list(limit=2)[\"data\"][0]['fine_tuned_model']\n",
    "\n",
    "y_pred_spider = data[[\"sentence\"]].apply(predict, axis=1)"
   ]
  },
  {
   "cell_type": "code",
   "execution_count": 171,
   "id": "442e2b81",
   "metadata": {},
   "outputs": [],
   "source": [
    "pred_spider = get_pred_score(y_pred_spider)"
   ]
  },
  {
   "cell_type": "code",
   "execution_count": 173,
   "id": "b174a66e",
   "metadata": {},
   "outputs": [
    {
     "data": {
      "text/plain": [
       "0.075"
      ]
     },
     "execution_count": 173,
     "metadata": {},
     "output_type": "execute_result"
    }
   ],
   "source": [
    "pred_spider.count(1) / len(pred_spider)"
   ]
  },
  {
   "cell_type": "markdown",
   "id": "014880f6",
   "metadata": {},
   "source": [
    "Accuracy : 7.5 % which is terrible"
   ]
  },
  {
   "cell_type": "code",
   "execution_count": 183,
   "id": "884fe62e",
   "metadata": {},
   "outputs": [
    {
     "data": {
      "text/plain": [
       "(\"  SELECT DISTINCT ProductName FROM Products INNER JOIN Order_Items ON Products.ID = Order_Items.ProductID INNER JOIN Orders ON Order_Items.OrderID = Orders.ID WHERE Orders.OrderDate LIKE '12/%'; \",\n",
       " '  SELECT DISTINCT ProductName FROM Orders_December;                        ')"
      ]
     },
     "execution_count": 183,
     "metadata": {},
     "output_type": "execute_result"
    }
   ],
   "source": [
    "y_pred_spider.tolist()[0], data[\"query\"].tolist()[0]"
   ]
  },
  {
   "cell_type": "code",
   "execution_count": 99,
   "id": "5fc2b712",
   "metadata": {},
   "outputs": [
    {
     "data": {
      "text/plain": [
       "'ft:gpt-3.5-turbo-0613:personal:jaarus:8D5w06vK'"
      ]
     },
     "execution_count": 99,
     "metadata": {},
     "output_type": "execute_result"
    }
   ],
   "source": [
    "openai.FineTuningJob.list(limit=2)[\"data\"][0]['fine_tuned_model']"
   ]
  },
  {
   "cell_type": "code",
   "execution_count": 184,
   "id": "25c37b57",
   "metadata": {},
   "outputs": [
    {
     "data": {
      "text/plain": [
       "('  SELECT ProductName FROM Orders_December;                                  ',\n",
       " '  SELECT DISTINCT ProductName FROM Orders_December;                        ')"
      ]
     },
     "execution_count": 184,
     "metadata": {},
     "output_type": "execute_result"
    }
   ],
   "source": [
    "y_pred.tolist()[0], data[\"query\"].tolist()[0]"
   ]
  },
  {
   "cell_type": "code",
   "execution_count": 186,
   "id": "43e4ffd4",
   "metadata": {},
   "outputs": [
    {
     "data": {
      "text/plain": [
       "'  List all the products sold in December.                              '"
      ]
     },
     "execution_count": 186,
     "metadata": {},
     "output_type": "execute_result"
    }
   ],
   "source": [
    "data[\"sentence\"][0]"
   ]
  },
  {
   "cell_type": "markdown",
   "id": "f9dc11d0",
   "metadata": {},
   "source": [
    "#### Testing model trained on self generated + Spider Dataset on 1 epochs"
   ]
  },
  {
   "cell_type": "code",
   "execution_count": 187,
   "id": "924d47e3",
   "metadata": {},
   "outputs": [],
   "source": [
    "my_model = openai.FineTuningJob.list(limit=3)[\"data\"][0]['fine_tuned_model']\n",
    "\n",
    "y_pred_spider_1 = data[[\"sentence\"]].apply(predict, axis=1)"
   ]
  },
  {
   "cell_type": "code",
   "execution_count": 188,
   "id": "3665a285",
   "metadata": {},
   "outputs": [],
   "source": [
    "pred_spider_1 = get_pred_score(y_pred_spider)"
   ]
  },
  {
   "cell_type": "code",
   "execution_count": 189,
   "id": "cf075a2a",
   "metadata": {},
   "outputs": [
    {
     "data": {
      "text/plain": [
       "0.075"
      ]
     },
     "execution_count": 189,
     "metadata": {},
     "output_type": "execute_result"
    }
   ],
   "source": [
    "pred_spider_1.count(1) / len(pred_spider_1)"
   ]
  },
  {
   "cell_type": "markdown",
   "id": "0886a201",
   "metadata": {},
   "source": [
    "Accuracy: 7.5%. Again terrible"
   ]
  },
  {
   "cell_type": "code",
   "execution_count": 196,
   "id": "28946051",
   "metadata": {},
   "outputs": [
    {
     "data": {
      "text/plain": [
       "'ft:gpt-3.5-turbo-0613:personal:jaarus-3:8DFrFQ6R'"
      ]
     },
     "execution_count": 196,
     "metadata": {},
     "output_type": "execute_result"
    }
   ],
   "source": [
    "openai.FineTuningJob.list(limit=3)[\"data\"][0]['fine_tuned_model']"
   ]
  },
  {
   "cell_type": "code",
   "execution_count": 5,
   "id": "232d8f9a",
   "metadata": {},
   "outputs": [
    {
     "data": {
      "text/plain": [
       "<OpenAIObject list at 0x10443cc20> JSON: {\n",
       "  \"object\": \"list\",\n",
       "  \"data\": [\n",
       "    {\n",
       "      \"object\": \"fine_tuning.job\",\n",
       "      \"id\": \"ftjob-Z4HNWrRhS1x52tTiGKgxXjcD\",\n",
       "      \"model\": \"gpt-3.5-turbo-0613\",\n",
       "      \"created_at\": 1698948106,\n",
       "      \"finished_at\": 1698948372,\n",
       "      \"fine_tuned_model\": \"ft:gpt-3.5-turbo-0613:personal:jaarus-schema:8GWN2g1r\",\n",
       "      \"organization_id\": \"org-u1ERq7fbreDb1wUZOAOdrMKG\",\n",
       "      \"result_files\": [\n",
       "        \"file-p2uaJeQPaKr8QVsPEufFPA3A\"\n",
       "      ],\n",
       "      \"status\": \"succeeded\",\n",
       "      \"validation_file\": null,\n",
       "      \"training_file\": \"file-xkoPaGAyMkhVjYpzWsQokE1W\",\n",
       "      \"hyperparameters\": {\n",
       "        \"n_epochs\": 3\n",
       "      },\n",
       "      \"trained_tokens\": 2673,\n",
       "      \"error\": null\n",
       "    },\n",
       "    {\n",
       "      \"object\": \"fine_tuning.job\",\n",
       "      \"id\": \"ftjob-6E88FgRrWtM9NC0CtKNTc2Im\",\n",
       "      \"model\": \"gpt-3.5-turbo-0613\",\n",
       "      \"created_at\": 1698947355,\n",
       "      \"finished_at\": null,\n",
       "      \"fine_tuned_model\": null,\n",
       "      \"organization_id\": \"org-u1ERq7fbreDb1wUZOAOdrMKG\",\n",
       "      \"result_files\": [],\n",
       "      \"status\": \"failed\",\n",
       "      \"validation_file\": null,\n",
       "      \"training_file\": \"file-pGNkHP1fpdJjfQe18MS6ULQG\",\n",
       "      \"hyperparameters\": {\n",
       "        \"n_epochs\": 3\n",
       "      },\n",
       "      \"trained_tokens\": null,\n",
       "      \"error\": {\n",
       "        \"code\": \"invalid_n_examples\",\n",
       "        \"param\": \"training_file\",\n",
       "        \"message\": \"Training file has 8 example(s), but must have at least 10 examples\"\n",
       "      }\n",
       "    },\n",
       "    {\n",
       "      \"object\": \"fine_tuning.job\",\n",
       "      \"id\": \"ftjob-fZPHHufnMn2l2CU4840qcxW7\",\n",
       "      \"model\": \"gpt-3.5-turbo-0613\",\n",
       "      \"created_at\": 1698166446,\n",
       "      \"finished_at\": 1698169912,\n",
       "      \"fine_tuned_model\": \"ft:gpt-3.5-turbo-0613:personal:jaarus-3:8DFrFQ6R\",\n",
       "      \"organization_id\": \"org-u1ERq7fbreDb1wUZOAOdrMKG\",\n",
       "      \"result_files\": [\n",
       "        \"file-iYqkreE8hIjLoZglkFS7Ik9R\"\n",
       "      ],\n",
       "      \"status\": \"succeeded\",\n",
       "      \"validation_file\": null,\n",
       "      \"training_file\": \"file-xqOA6KjVDj64r6Kr8icRYWgt\",\n",
       "      \"hyperparameters\": {\n",
       "        \"n_epochs\": 1\n",
       "      },\n",
       "      \"trained_tokens\": 675170,\n",
       "      \"error\": null\n",
       "    },\n",
       "    {\n",
       "      \"object\": \"fine_tuning.job\",\n",
       "      \"id\": \"ftjob-xPfSSZrJ0W7IXL2k9RtVWyRT\",\n",
       "      \"model\": \"gpt-3.5-turbo-0613\",\n",
       "      \"created_at\": 1698128106,\n",
       "      \"finished_at\": 1698131767,\n",
       "      \"fine_tuned_model\": \"ft:gpt-3.5-turbo-0613:personal:jaarus:8D5w06vK\",\n",
       "      \"organization_id\": \"org-u1ERq7fbreDb1wUZOAOdrMKG\",\n",
       "      \"result_files\": [\n",
       "        \"file-P2vLB4BDKO4cyGtJeMav5PEP\"\n",
       "      ],\n",
       "      \"status\": \"succeeded\",\n",
       "      \"validation_file\": null,\n",
       "      \"training_file\": \"file-xqOA6KjVDj64r6Kr8icRYWgt\",\n",
       "      \"hyperparameters\": {\n",
       "        \"n_epochs\": 3\n",
       "      },\n",
       "      \"trained_tokens\": 2025510,\n",
       "      \"error\": null\n",
       "    },\n",
       "    {\n",
       "      \"object\": \"fine_tuning.job\",\n",
       "      \"id\": \"ftjob-0nz60yC1MsOQ31f03z909chQ\",\n",
       "      \"model\": \"gpt-3.5-turbo-0613\",\n",
       "      \"created_at\": 1698111919,\n",
       "      \"finished_at\": 1698112737,\n",
       "      \"fine_tuned_model\": \"ft:gpt-3.5-turbo-0613:personal:jaarus:8D0z4CHa\",\n",
       "      \"organization_id\": \"org-u1ERq7fbreDb1wUZOAOdrMKG\",\n",
       "      \"result_files\": [\n",
       "        \"file-D5EfQQA3rrrOXAzLTgT3A3Oi\"\n",
       "      ],\n",
       "      \"status\": \"succeeded\",\n",
       "      \"validation_file\": null,\n",
       "      \"training_file\": \"file-aFyFIYhHhkXEscLVdV00J0h4\",\n",
       "      \"hyperparameters\": {\n",
       "        \"n_epochs\": 3\n",
       "      },\n",
       "      \"trained_tokens\": 25338,\n",
       "      \"error\": null\n",
       "    }\n",
       "  ],\n",
       "  \"has_more\": false\n",
       "}"
      ]
     },
     "execution_count": 5,
     "metadata": {},
     "output_type": "execute_result"
    }
   ],
   "source": [
    "openai.FineTuningJob.list(limit=10)"
   ]
  },
  {
   "cell_type": "code",
   "execution_count": 7,
   "id": "78617e24",
   "metadata": {},
   "outputs": [
    {
     "data": {
      "text/plain": [
       "'ft:gpt-3.5-turbo-0613:personal:jaarus:8D0z4CHa'"
      ]
     },
     "execution_count": 7,
     "metadata": {},
     "output_type": "execute_result"
    }
   ],
   "source": [
    "openai.FineTuningJob.list(limit=10)[\"data\"][5-1]['fine_tuned_model']"
   ]
  },
  {
   "cell_type": "code",
   "execution_count": null,
   "id": "9eb21d55",
   "metadata": {},
   "outputs": [],
   "source": []
  }
 ],
 "metadata": {
  "kernelspec": {
   "display_name": "Python 3 (ipykernel)",
   "language": "python",
   "name": "python3"
  },
  "language_info": {
   "codemirror_mode": {
    "name": "ipython",
    "version": 3
   },
   "file_extension": ".py",
   "mimetype": "text/x-python",
   "name": "python",
   "nbconvert_exporter": "python",
   "pygments_lexer": "ipython3",
   "version": "3.10.9"
  }
 },
 "nbformat": 4,
 "nbformat_minor": 5
}
